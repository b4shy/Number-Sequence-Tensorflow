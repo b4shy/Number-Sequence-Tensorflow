{
 "cells": [
  {
   "cell_type": "markdown",
   "metadata": {},
   "source": [
    "# This script demonstrates the use of multiple classifiers for (restricted) mnist number sequences in Tensorflow on an extremly simple CNN\n"
   ]
  },
  {
   "cell_type": "markdown",
   "metadata": {},
   "source": [
    "## We import:\n",
    "<ol>\n",
    "    <li> keras for getting the mnist data</li>\n",
    "    <li> to_categorical to encode the labels to One Hot format </li>\n",
    "    <li> tensorflow </li>\n",
    "    <li> numpy for creating the number sequences </li>\n",
    "    <li> os </li>\n",
    "    <li> matplotlib </li>\n",
    "        "
   ]
  },
  {
   "cell_type": "code",
   "execution_count": 3,
   "metadata": {},
   "outputs": [],
   "source": [
    "from keras.datasets import mnist\n",
    "from keras.utils import to_categorical\n",
    "\n",
    "import tensorflow as tf\n",
    "import numpy as np\n",
    "import os\n",
    "import matplotlib.pyplot as plt\n"
   ]
  },
  {
   "cell_type": "markdown",
   "metadata": {},
   "source": [
    "## We want to read in sequences of numbers. In order to achieve this we horizontally concat number up to sequence length 5"
   ]
  },
  {
   "cell_type": "code",
   "execution_count": 4,
   "metadata": {},
   "outputs": [],
   "source": [
    "(X_train, y_train), (X_test, y_test) = mnist.load_data()\n",
    "\n",
    "def concat_images(data, label, number_of_images):\n",
    "    images = []\n",
    "    labels = []\n",
    "    \n",
    "    for i in range(number_of_images):\n",
    "        #First get a random number between 1 and 5 to indicate how long the seq will be\n",
    "        seq_len = np.random.randint(1, 6)\n",
    "        # Then get seq_len images and concat them to one sequence\n",
    "        rnd_ind = np.random.randint(0, len(data), seq_len)\n",
    "        #Create a new concatted image\n",
    "        image = data[rnd_ind[0]]\n",
    "        temp_label = label[rnd_ind[0]]\n",
    "        \n",
    "        #Stack the images and labels\n",
    "        for i in rnd_ind[1:]:\n",
    "            image = np.hstack((image, data[i]))\n",
    "            temp_label = np.vstack((temp_label, label[i]))\n",
    "        \n",
    "        # pad the image with zeros so all have the same size\n",
    "        image = np.pad(image, [(0,0),(0,140-image.shape[1])], 'constant')\n",
    "        #Pad labels with 10 as a NAN indicator\n",
    "        label_padded = np.pad(label[rnd_ind], [(0), (5-len(rnd_ind))], 'constant', constant_values = 10)\n",
    "                \n",
    "        labels.append(label_padded)\n",
    "        images.append(image)\n",
    "        \n",
    "    \n",
    "    return np.array(images), np.array(labels)\n",
    "\n",
    "train_data, train_labels = concat_images(X_train, y_train, 100000)\n",
    "test_data, test_labels = concat_images(X_test, y_test, 32000)"
   ]
  },
  {
   "cell_type": "markdown",
   "metadata": {},
   "source": [
    "## Preprocess the data (reshape to correct format for grayscale + standartization). Create one Hot-Hot Encodings"
   ]
  },
  {
   "cell_type": "code",
   "execution_count": 5,
   "metadata": {
    "scrolled": true
   },
   "outputs": [],
   "source": [
    "train_data_preprocessed = train_data.reshape(train_data.shape[0], train_data.shape[1], train_data.shape[2],1)\n",
    "test_data_preprocessed = test_data.reshape(test_data.shape[0], test_data.shape[1], test_data.shape[2],1)\n",
    "\n",
    "#Standartize data\n",
    "train_data_preprocessed = train_data_preprocessed / 255\n",
    "test_data_preprocessed = test_data_preprocessed / 255\n",
    "\n",
    "#OHE labels\n",
    "\n",
    "train_labels_OHE = to_categorical(train_labels,11)\n",
    "test_labels_OHE = to_categorical(test_labels,11)"
   ]
  },
  {
   "cell_type": "code",
   "execution_count": 6,
   "metadata": {},
   "outputs": [
    {
     "data": {
      "image/png": "[encoded data removed]",
      "text/plain": [
       "<Figure size 432x288 with 1 Axes>"
      ]
     },
     "metadata": {},
     "output_type": "display_data"
    },
    {
     "data": {
      "image/png": "[encoded data removed]",
      "text/plain": [
       "<Figure size 432x288 with 1 Axes>"
      ]
     },
     "metadata": {},
     "output_type": "display_data"
    },
    {
     "data": {
      "image/png": "[encoded data removed]",
      "text/plain": [
       "<Figure size 432x288 with 1 Axes>"
      ]
     },
     "metadata": {},
     "output_type": "display_data"
    },
    {
     "data": {
      "text/plain": [
       "<Figure size 432x288 with 0 Axes>"
      ]
     },
     "metadata": {},
     "output_type": "display_data"
    }
   ],
   "source": [
    "#Look at some sample data with labels\n",
    "plt.figure(0)\n",
    "\n",
    "for i in range(3):\n",
    "    plt.imshow(train_data_preprocessed[i].reshape(28,140), cmap=\"gray\")\n",
    "    plt.title(train_labels[i])\n",
    "    plt.figure(i+1)"
   ]
  },
  {
   "cell_type": "markdown",
   "metadata": {},
   "source": [
    "## Define accuracy function for evaluation and next_batch function for training"
   ]
  },
  {
   "cell_type": "code",
   "execution_count": 7,
   "metadata": {},
   "outputs": [],
   "source": [
    "def accuracy(predictions, labels):\n",
    "    return (100.0 * np.sum(np.argmax(predictions, 2) == labels)\n",
    "            / predictions.shape[1] / predictions.shape[0])\n",
    "\n",
    "def next_batch(data, label, batch_size):\n",
    "    rnd_ind = np.random.randint(0, len(data), batch_size)\n",
    "    return data[rnd_ind], label[rnd_ind]"
   ]
  },
  {
   "cell_type": "markdown",
   "metadata": {},
   "source": [
    "# Create the model\n",
    "# 2 Convolutions followed by MaxPooling \n",
    "# 1024 unit Dense layer followed by softmax\n",
    "\n",
    "### To keep it simple there is no visualization nor storing of the model and its parameters"
   ]
  },
  {
   "cell_type": "code",
   "execution_count": 8,
   "metadata": {},
   "outputs": [
    {
     "name": "stdout",
     "output_type": "stream",
     "text": [
      "WARNING:tensorflow:From <ipython-input-8-fccad0be3887>:53: softmax_cross_entropy_with_logits (from tensorflow.python.ops.nn_ops) is deprecated and will be removed in a future version.\n",
      "Instructions for updating:\n",
      "\n",
      "Future major versions of TensorFlow will allow gradients to flow\n",
      "into the labels input on backprop by default.\n",
      "\n",
      "See @{tf.nn.softmax_cross_entropy_with_logits_v2}.\n",
      "\n"
     ]
    }
   ],
   "source": [
    "#Create a model with 5 classifiers\n",
    "\n",
    "graph = tf.Graph()\n",
    "\n",
    "with graph.as_default():\n",
    "    data = tf.placeholder(dtype=tf.float32,shape=(None, 28,140,1))\n",
    "    labels = tf.placeholder(dtype=tf.float32, shape=(None, 5, 11))\n",
    "    \n",
    "    w1 = tf.Variable(tf.truncated_normal(shape=(3,3, 1,32), stddev=0.1))\n",
    "    b1 = tf.Variable(tf.zeros(32))\n",
    "    \n",
    "    w2 = tf.Variable(tf.truncated_normal(shape=(3,3,32,64), stddev=0.1))\n",
    "    b2 = tf.Variable(tf.constant(1., shape=[64]))\n",
    "    \n",
    "    w3 = tf.Variable(tf.truncated_normal(shape=(28 // 4 * 140 // 4 * 64, 1024)))\n",
    "    b3 = tf.Variable(tf.constant(1., shape=[1024]))\n",
    "    \n",
    "    w4 = tf.Variable(tf.truncated_normal(shape=(1024,11)))\n",
    "    b4 = tf.Variable(tf.constant(1., shape=[11]))\n",
    "    \n",
    "    w5 = tf.Variable(tf.truncated_normal(shape=(1024,11)))\n",
    "    b5 = tf.Variable(tf.constant(1., shape=[11]))\n",
    "\n",
    "    w6 = tf.Variable(tf.truncated_normal(shape=(1024,11)))\n",
    "    b6 = tf.Variable(tf.constant(1., shape=[11]))\n",
    "    \n",
    "    w7 = tf.Variable(tf.truncated_normal(shape=(1024,11)))\n",
    "    b7 = tf.Variable(tf.constant(1., shape=[11]))\n",
    "    \n",
    "    w8 = tf.Variable(tf.truncated_normal(shape=(1024,11)))\n",
    "    b8 = tf.Variable(tf.constant(1., shape=[11]))\n",
    "    \n",
    "\n",
    "    \n",
    "    def model(x, w, b):\n",
    "        conv= tf.nn.relu(tf.nn.conv2d(x, w1, [1,1,1,1], padding=\"SAME\")+b1)\n",
    "        conv = tf.nn.max_pool(conv, [1,2,2,1], [1,2,2,1], padding=\"SAME\")\n",
    "        conv = tf.nn.relu(tf.nn.conv2d(conv, w2, [1,1,1,1], padding=\"SAME\")+b2)\n",
    "        conv = tf.nn.max_pool(conv, [1,2,2,1], [1,2,2,1],padding=\"SAME\")\n",
    "        shape = conv.get_shape().as_list()\n",
    "        reshape = tf.reshape(conv, [-1, shape[1] * shape[2] * shape[3]])\n",
    "        dense = tf.nn.relu(tf.matmul(reshape, w3)+b3)\n",
    "        return tf.matmul(dense, w) + b\n",
    "    \n",
    "    pred = []\n",
    "    pred.append(model(data, w4, b4))\n",
    "    pred.append(model(data, w5, b5))\n",
    "    pred.append(model(data, w6, b6))\n",
    "    pred.append(model(data, w7, b7))\n",
    "    pred.append(model(data, w8,b8))\n",
    "    pred = tf.stack(pred, axis=1)\n",
    "    \n",
    "    loss = tf.reduce_mean(tf.nn.softmax_cross_entropy_with_logits(logits=pred, labels=labels))\n",
    "    optimizer = tf.train.AdamOptimizer(learning_rate=0.001).minimize(loss)\n",
    "    prediction = tf.nn.softmax(pred)\n",
    "    \n",
    "    init = tf.global_variables_initializer()"
   ]
  },
  {
   "cell_type": "code",
   "execution_count": 11,
   "metadata": {},
   "outputs": [
    {
     "name": "stdout",
     "output_type": "stream",
     "text": [
      "Step 0, Loss 3669.671142578125\n",
      "Train ACC: 21.953125\n",
      "Test Acc: 22.55859375\n",
      "Step 1000, Loss 36.23963165283203\n",
      "Train ACC: 61.923828125\n",
      "Test Acc: 63.7890625\n",
      "Step 2000, Loss 10.60263442993164\n",
      "Train ACC: 67.01171875\n",
      "Test Acc: 69.00390625\n",
      "Step 3000, Loss 9.9264497756958\n",
      "Train ACC: 73.388671875\n",
      "Test Acc: 75.48828125\n",
      "Step 4000, Loss 3.3237369060516357\n",
      "Train ACC: 78.876953125\n",
      "Test Acc: 81.3671875\n",
      "Step 5000, Loss 4.936378002166748\n",
      "Train ACC: 87.685546875\n",
      "Test Acc: 89.55078125\n",
      "Step 6000, Loss 0.38899168372154236\n",
      "Train ACC: 89.794921875\n",
      "Test Acc: 90.76171875\n",
      "Step 7000, Loss 2.339449405670166\n",
      "Train ACC: 92.255859375\n",
      "Test Acc: 92.59765625\n",
      "Step 8000, Loss 2.0763306617736816\n",
      "Train ACC: 93.1640625\n",
      "Test Acc: 93.90625\n",
      "Step 9000, Loss 4.270471096038818\n",
      "Train ACC: 95.234375\n",
      "Test Acc: 95.52734375\n",
      "Step 10000, Loss 0.5125005841255188\n",
      "Train ACC: 95.615234375\n",
      "Test Acc: 95.72265625\n",
      "Step 11000, Loss 0.5427903532981873\n",
      "Train ACC: 96.2109375\n",
      "Test Acc: 96.40625\n",
      "Step 12000, Loss 0.43468329310417175\n",
      "Train ACC: 95.986328125\n",
      "Test Acc: 95.87890625\n",
      "Step 13000, Loss 1.1302950382232666\n",
      "Train ACC: 96.728515625\n",
      "Test Acc: 96.77734375\n",
      "Step 14000, Loss 0.1914885938167572\n",
      "Train ACC: 97.40234375\n",
      "Test Acc: 97.05078125\n",
      "Step 15000, Loss 0.36756107211112976\n",
      "Train ACC: 97.265625\n",
      "Test Acc: 97.5390625\n",
      "Step 16000, Loss 1.1483843326568604\n",
      "Train ACC: 96.8359375\n",
      "Test Acc: 96.6796875\n",
      "Step 17000, Loss 0.18239904940128326\n",
      "Train ACC: 97.822265625\n",
      "Test Acc: 97.59765625\n",
      "Step 18000, Loss 0.4289887845516205\n",
      "Train ACC: 97.98828125\n",
      "Test Acc: 97.7734375\n",
      "Step 19000, Loss 0.22078736126422882\n",
      "Train ACC: 98.0859375\n",
      "Test Acc: 97.6171875\n",
      "Step 20000, Loss 5.4557945986744016e-05\n",
      "Train ACC: 98.06640625\n",
      "Test Acc: 97.8515625\n",
      "Step 21000, Loss 0.17766974866390228\n",
      "Train ACC: 98.408203125\n",
      "Test Acc: 97.79296875\n",
      "Step 22000, Loss 0.9672247171401978\n",
      "Train ACC: 98.447265625\n",
      "Test Acc: 97.94921875\n",
      "Step 23000, Loss 0.407671719789505\n",
      "Train ACC: 98.37890625\n",
      "Test Acc: 98.0859375\n",
      "Step 24000, Loss 0.11938973516225815\n",
      "Train ACC: 98.671875\n",
      "Test Acc: 98.3203125\n",
      "Step 25000, Loss 0.01270680595189333\n",
      "Train ACC: 98.720703125\n",
      "Test Acc: 98.37890625\n",
      "Step 26000, Loss 0.6435220837593079\n",
      "Train ACC: 98.8671875\n",
      "Test Acc: 97.98828125\n",
      "Step 27000, Loss 0.08936221152544022\n",
      "Train ACC: 99.150390625\n",
      "Test Acc: 98.57421875\n",
      "Step 28000, Loss 0.08622641861438751\n",
      "Train ACC: 99.013671875\n",
      "Test Acc: 98.41796875\n",
      "Step 29000, Loss 0.5462476015090942\n",
      "Train ACC: 98.69140625\n",
      "Test Acc: 98.28125\n"
     ]
    }
   ],
   "source": [
    "sess = tf.Session(graph=graph)    \n",
    "sess.run(init)\n",
    "\n",
    "\n",
    "for step in range(30000):\n",
    "        \n",
    "        data_batch, label_batch = next_batch(train_data_preprocessed, train_labels_OHE, 24)\n",
    "        _,actual_loss = sess.run([optimizer, loss], feed_dict={data : data_batch, labels : label_batch})\n",
    "        \n",
    "        if step % 1000 == 0:\n",
    "            print(\"Step {}, Loss {}\".format(step, actual_loss))\n",
    "            train_eval = sess.run(prediction,feed_dict = {data : train_data_preprocessed[:2048]})\n",
    "            print(\"Train ACC: {}\".format(accuracy(train_eval, train_labels[:2048])))\n",
    "            test_eval = sess.run(prediction, feed_dict = {data : test_data_preprocessed[:1024]})\n",
    "            print(\"Test Acc: {}\".format(accuracy(test_eval, test_labels[:1024])))"
   ]
  },
  {
   "cell_type": "code",
   "execution_count": 21,
   "metadata": {},
   "outputs": [
    {
     "data": {
      "image/png": "[encoded data removed]",
      "text/plain": [
       "<Figure size 432x288 with 1 Axes>"
      ]
     },
     "metadata": {},
     "output_type": "display_data"
    },
    {
     "data": {
      "image/png": "[encoded data removed]",
      "text/plain": [
       "<Figure size 432x288 with 1 Axes>"
      ]
     },
     "metadata": {},
     "output_type": "display_data"
    },
    {
     "data": {
      "image/png": "[encoded data removed]",
      "text/plain": [
       "<Figure size 432x288 with 1 Axes>"
      ]
     },
     "metadata": {},
     "output_type": "display_data"
    },
    {
     "data": {
      "image/png": "[encoded data removed]",
      "text/plain": [
       "<Figure size 432x288 with 1 Axes>"
      ]
     },
     "metadata": {},
     "output_type": "display_data"
    },
    {
     "data": {
      "image/png": "[encoded data removed]",
      "text/plain": [
       "<Figure size 432x288 with 1 Axes>"
      ]
     },
     "metadata": {},
     "output_type": "display_data"
    }
   ],
   "source": [
    "rnd_ind = np.random.randint(0, len(test_data_preprocessed), 5)\n",
    "show_images = test_data_preprocessed[rnd_ind]\n",
    "\n",
    "pred = sess.run(prediction, feed_dict={data : show_images})\n",
    "\n",
    "for it,img in enumerate(show_images):\n",
    "    plt.figure()\n",
    "    plt.imshow(img.reshape(28,140))\n",
    "    plt.title(\"Predicted: %s\"%(pred[it].argmax(1)))"
   ]
  },
  {
   "cell_type": "markdown",
   "metadata": {},
   "source": [
    "# This gives about 98 test accuracy. There is of course lots of space to the top by improving the network structure and adding Regularization and Batch Norm. In order to achieve a more dynamic structure one might switch to a RNN"
   ]
  },
  {
   "cell_type": "code",
   "execution_count": null,
   "metadata": {},
   "outputs": [],
   "source": []
  }
 ],
 "metadata": {
  "kernelspec": {
   "display_name": "Python 3",
   "language": "python",
   "name": "python3"
  },
  "language_info": {
   "codemirror_mode": {
    "name": "ipython",
    "version": 3
   },
   "file_extension": ".py",
   "mimetype": "text/x-python",
   "name": "python",
   "nbconvert_exporter": "python",
   "pygments_lexer": "ipython3",
   "version": "3.6.4"
  }
 },
 "nbformat": 4,
 "nbformat_minor": 2
}
